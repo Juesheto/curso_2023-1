{
 "cells": [
  {
   "attachments": {},
   "cell_type": "markdown",
   "metadata": {},
   "source": [
    "[![Open In Colab](https://colab.research.google.com/assets/colab-badge.svg)](https://colab.research.google.com/github/estocasticos-udem/curso_2023-1/blob/main/variables_aleatorias/poisson.ipynb)"
   ]
  },
  {
   "cell_type": "code",
   "execution_count": 1,
   "metadata": {},
   "outputs": [],
   "source": [
    "import scipy.stats as stats\n",
    "import numpy as np\n",
    "import matplotlib.pyplot as plt\n",
    "import pandas as pd"
   ]
  },
  {
   "attachments": {},
   "cell_type": "markdown",
   "metadata": {},
   "source": [
    "# Distribución de Poisson"
   ]
  },
  {
   "attachments": {},
   "cell_type": "markdown",
   "metadata": {},
   "source": [
    "## Ejemplo 1\n",
    "\n",
    "El número promedio de panes colocados en un estante de una panadería en un periodo de media hora es de 12. Es interesante el número de panes que se ponen en la estantería en cinco minutos. El intervalo de tiempo de interés es de cinco minutos. ¿Cuál es la probabilidad de que el número de panes, seleccionados al azar, puestos en la estantería en cinco minutos sea tres?\n",
    "\n",
    "**Solución**\n",
    " \n",
    "Como este experimento es tipo Poisson, si definimos la VA $X$: X = el número de panes puestos en la estantería en cinco minutos. Ademas, de acuerdo al enunciado del intervalo de interes tenemos que este es de 5 min. Para hallar la media $\\alpha = \\lambda T$ en el intervalo de interes tenemos:\n",
    "* **Numero de eventos en un intervalo de tiempo dado**: $\\lambda = \\frac{12 panes}{30 min}$\n",
    "* **Intervalo de interes**: $T = 5 min$\n",
    "\n",
    "Luego: \n",
    "\n",
    "$$\n",
    "\\alpha = \\lambda \\times  T = \\frac{12 panes}{30 min} \\times 5 min = 2 panes\n",
    "$$\n",
    "\n",
    "De modo que $X \\sim Poisson(\\alpha)$ con $\\alpha = 2$"
   ]
  },
  {
   "attachments": {},
   "cell_type": "markdown",
   "metadata": {},
   "source": [
    "Para encontrar la distribución de probabilidad pedida $P(X = 3)$ tenemos:"
   ]
  },
  {
   "cell_type": "code",
   "execution_count": 6,
   "metadata": {},
   "outputs": [
    {
     "name": "stdout",
     "output_type": "stream",
     "text": [
      "P(X=3) = 0.180447\n"
     ]
    }
   ],
   "source": [
    "\"\"\"\n",
    "Definición de la VA Poisson: X ~ Poisson(alpha)\n",
    "\n",
    "X: número de panes puestos en la estantería en cinco minutos\n",
    "\n",
    "# Parametros\n",
    "a = 5 (alpha)\n",
    "\"\"\"\n",
    "\n",
    "l = 12/30\n",
    "T = 5\n",
    "a = l*T\n",
    "\n",
    "X = stats.poisson(mu = a) # Variable aleatoria hipergeometrica\n",
    "\n",
    "# P(X=3)\n",
    "P3 = X.pmf(k = 3)\n",
    "print(\"P(X=3) = {0:2f}\".format(P3))"
   ]
  },
  {
   "attachments": {},
   "cell_type": "markdown",
   "metadata": {},
   "source": [
    "## Ejemplo 2\n",
    "\n",
    "Un banco espera recibir seis cheques sin fondos al día, en promedio. ¿Cuál es la probabilidad de que el banco reciba menos de cinco cheques sin fondos en un día determinado? \n",
    "\n",
    "**Solución**\n",
    " \n",
    "Como este experimento es tipo Poisson donde:\n",
    "* **VA**: $X = el número de cheques sin fondos que recibe el banco en un día$. \n",
    "* **Intervalo de interes**: $T = 1 dia$\n",
    "* **Numero de eventos en un intervalo de tiempo dado**: $\\lambda = \\frac{6 cheques sin fondos}{1 dia}$\n",
    "  \n",
    "Luego: \n",
    "\n",
    "$$\n",
    "\\alpha = \\lambda \\times T = \\frac{6 cheques sin fondos}{1 dia} \\times 1 dia = 6 cheques sin fondos\n",
    "$$\n",
    "\n",
    "De modo que $X \\sim Poisson(\\alpha)$ con $\\alpha = 6$"
   ]
  },
  {
   "attachments": {},
   "cell_type": "markdown",
   "metadata": {},
   "source": [
    "En el enunciado nos piden $P(x<5)$, procedamos a realizar el calculo:"
   ]
  },
  {
   "cell_type": "code",
   "execution_count": 7,
   "metadata": {},
   "outputs": [
    {
     "name": "stdout",
     "output_type": "stream",
     "text": [
      "P(X < 5) = P(X <= 4) = 0.285057\n"
     ]
    }
   ],
   "source": [
    "\"\"\"\n",
    "Definición de la VA Poison: X ~ Poisson(alpha)\n",
    "\n",
    "X: número de cheques sin fondos que recibe el banco en un día\n",
    "\n",
    "# Parametros\n",
    "a = 6 (alpha)\n",
    "\"\"\"\n",
    "\n",
    "l = 6/1\n",
    "T = 1\n",
    "a = l*T\n",
    "\n",
    "X = stats.poisson(mu = a) # Variable aleatoria hipergeometrica\n",
    "\n",
    "# P(X < 5) = P(X <= 4)\n",
    "P_lt_5 = X.cdf(x = 4)\n",
    "print(\"P(X < 5) = P(X <= 4) = {0:2f}\".format(P_lt_5))"
   ]
  },
  {
   "attachments": {},
   "cell_type": "markdown",
   "metadata": {},
   "source": [
    "## Ejemplo 3\n",
    "\n",
    "Se da cuenta de que un reportero de noticias dice \"uh”, en promedio, dos veces por emisión. ¿Cuál es la probabilidad de que el periodista diga \"uh\" más de dos veces por emisión?\n",
    "\n",
    "Se trata de un problema de Poisson porque le interesa saber el número de veces que el reportero de las noticias dice “uh” durante una emisión.\n",
    "* ¿Cuál es el intervalo de interés?\n",
    "\n",
    "  **Respuesta**: una emisión ($T = 1 emisión$)   \n",
    "\n",
    "* ¿Cuál es el número promedio de veces que el reportero de noticias dice \"uh\" durante una emisión?\n",
    "  \n",
    "  **Respuesta**: $\\lambda = \\frac{2 uh}{1 emision}$   \n",
    "\n",
    "* Supongamos que $X = el número de veces que el reportero de noticias dice \"uh\" durante una emisión$. ¿Qué valores toma X?\n",
    "  \n",
    "  $$x = S_X = \\{0, 1, 2, 3,...\\}$$\n",
    "\n",
    "* La pregunta de probabilidad es $P(X > 2)$."
   ]
  },
  {
   "cell_type": "code",
   "execution_count": 10,
   "metadata": {},
   "outputs": [
    {
     "name": "stdout",
     "output_type": "stream",
     "text": [
      "P(X > 2) = 1 - P(X < 2) = 1 - P(X <= 1) = 0.593994\n"
     ]
    }
   ],
   "source": [
    "\"\"\"\n",
    "Definición de la VA Poison: X ~ Poisson(alpha)\n",
    "\n",
    "X: el número de veces que el reportero de noticias dice \"uh\" durante una emisión\n",
    "\n",
    "# Parametros\n",
    "a = 6 (alpha)\n",
    "\"\"\"\n",
    "\n",
    "l = 2/1\n",
    "T = 1\n",
    "a = l*T\n",
    "\n",
    "X = stats.poisson(mu = a) # Variable aleatoria hipergeometrica\n",
    "\n",
    "# P(X > 2) = 1 - P(X < 2) = 1 - P(X <= 1)\n",
    "P_gt_2 = 1 - X.cdf(x = 1)\n",
    "print(\"P(X > 2) = 1 - P(X < 2) = 1 - P(X <= 1) = {0:2f}\".format(P_gt_2))"
   ]
  }
 ],
 "metadata": {
  "kernelspec": {
   "display_name": "Python 3",
   "language": "python",
   "name": "python3"
  },
  "language_info": {
   "codemirror_mode": {
    "name": "ipython",
    "version": 3
   },
   "file_extension": ".py",
   "mimetype": "text/x-python",
   "name": "python",
   "nbconvert_exporter": "python",
   "pygments_lexer": "ipython3",
   "version": "3.9.13"
  },
  "vscode": {
   "interpreter": {
    "hash": "e06ff7da33dc9620448857a90ad8b5f428f0d573d205a934d2841c8aee45ea32"
   }
  }
 },
 "nbformat": 4,
 "nbformat_minor": 4
}
