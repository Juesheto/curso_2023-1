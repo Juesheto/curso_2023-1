{
 "cells": [
  {
   "cell_type": "code",
   "execution_count": null,
   "metadata": {},
   "outputs": [],
   "source": [
    "# Imports\n",
    "import scipy.stats as stats\n",
    "import numpy as np\n",
    "import matplotlib.pyplot as plt\n",
    "import pandas as pd"
   ]
  },
  {
   "attachments": {},
   "cell_type": "markdown",
   "metadata": {},
   "source": [
    "# Ejemplos clase\n",
    "\n",
    "* **Fecha**: 16/03/2023"
   ]
  },
  {
   "attachments": {},
   "cell_type": "markdown",
   "metadata": {},
   "source": [
    "Los datos en siguiente tabla son 55 tiempos de sonrisa, en segundos, de un bebé de ocho semanas:\n",
    "\n",
    "```\n",
    "10.4 19.6 18.8 13.9\t17.8 16.8 21.6 17.9 12.5 11.1 4.9\n",
    "12.8 14.8 22.8 20.0\t15.9 16.3 13.4 17.1\t14.5 19.0 22.8\n",
    "1.3 0.7\t8.9 11.9 10.9 7.3 5.9 3.7 17.9 19.2 9.8 \n",
    "5.8\t6.9\t2.6\t5.8\t21.7 11.8 3.4 2.1 4.5 6.3 10.7\n",
    "8.9 9.4\t9.4\t7.6\t10.0 3.3 6.7 7.8 11.6 13.8 18.6\n",
    "```\n"
   ]
  },
  {
   "cell_type": "code",
   "execution_count": null,
   "metadata": {},
   "outputs": [
    {
     "name": "stdout",
     "output_type": "stream",
     "text": [
      "[10.4, 19.6, 18.8, 13.9, 17.8, 16.8, 21.6, 17.9, 12.5, 11.1, 4.9, 12.8, 14.8, 22.8, 20.0, 15.9, 16.3, 13.4, 17.1, 14.5, 19.0, 22.8, 1.3, 0.7, 8.9, 11.9, 10.9, 7.3, 5.9, 3.7, 17.9, 19.2, 9.8, 5.8, 6.9, 2.6, 5.8, 21.7, 11.8, 3.4, 2.1, 4.5, 6.3, 10.7, 8.9, 9.4, 9.4, 7.6, 10.0, 3.3, 6.7, 7.8, 11.6, 13.8, 18.6]\n",
      "Media:  11.65272727272727\n",
      "Desviación estandar:  6.080748447642089\n"
     ]
    }
   ],
   "source": [
    "tiempo_risa = [10.4, 19.6, 18.8, 13.9, 17.8, 16.8, 21.6, 17.9, 12.5, 11.1, 4.9, \n",
    "               12.8, 14.8, 22.8, 20.0, 15.9, 16.3, 13.4, 17.1, 14.5, 19.0, 22.8, \n",
    "               1.3, 0.7, 8.9, 11.9, 10.9, 7.3, 5.9, 3.7, 17.9, 19.2, 9.8, \n",
    "               5.8, 6.9, 2.6, 5.8, 21.7, 11.8, 3.4, 2.1, 4.5, 6.3, 10.7, \n",
    "               8.9, 9.4, 9.4, 7.6, 10.0, 3.3, 6.7, 7.8, 11.6, 13.8, 18.6]\n",
    "# Media\n",
    "media = sum(tiempo_risa)/len(tiempo_risa)\n",
    "print(tiempo_risa)\n",
    "print(\"Media: \", media)\n",
    "desv_std = stats.tstd(tiempo_risa)\n",
    "print(\"Desviación estandar: \", desv_std)"
   ]
  },
  {
   "attachments": {},
   "cell_type": "markdown",
   "metadata": {},
   "source": [
    "## Ejemplo de la sonrisa del bebe como distribución uniforme\n",
    "\n",
    "* $X$: la duración, en segundos, de la sonrisa de un bebé de ocho semanas.\n",
    "\n",
    "Si $X \\sim  U(a,b)$ donde $a$ es el menor valor de $x$ y $b$ el valor mayor de $x$, y asumiendo para este ejemplo $0 \\leq x \\leq 23$ que $𝑎=0$ y $𝑏=23$ por lo que $𝑋 \\sim 𝑈(0,23)$ tenemos que"
   ]
  },
  {
   "cell_type": "code",
   "execution_count": null,
   "metadata": {},
   "outputs": [],
   "source": [
    "# X ~ U(a = 0, b = 23)\n",
    "b = 23 \n",
    "a = 0 \n",
    "X = stats.uniform(loc=a, scale=b)"
   ]
  },
  {
   "cell_type": "code",
   "execution_count": null,
   "metadata": {},
   "outputs": [
    {
     "name": "stdout",
     "output_type": "stream",
     "text": [
      "P(2<=X<=18): 0.6956521739130435\n"
     ]
    }
   ],
   "source": [
    "# P(2<=X<=18)\n",
    "P1 = X.cdf(18) - X.cdf(2) # P(2<=X<=18) = F(18) - F(2)\n",
    "print(\"P(2<=X<=18): \" + str(P1))"
   ]
  },
  {
   "cell_type": "code",
   "execution_count": null,
   "metadata": {},
   "outputs": [
    {
     "name": "stdout",
     "output_type": "stream",
     "text": [
      "P(X>12|X>8): 0.7333333333333334\n"
     ]
    }
   ],
   "source": [
    "# P(X>12|X>8) = P(X>12)/P(X>8) = (1-P(X<12))/(1-P(X<8)) = (1-F(12))/(1-F(8))   \n",
    "P2 = (1 - X.cdf(12))/(1 - X.cdf(8)) # (1-F(12))/(1-F(8))   \n",
    "print(\"P(X>12|X>8): \" + str(P2))"
   ]
  },
  {
   "attachments": {},
   "cell_type": "markdown",
   "metadata": {},
   "source": [
    "## Ejemplo 2\n",
    "\n",
    "La dirección de una imperfección con respecto a una línea de referencia sobre un objeto circular como un neumático, un rotor de freno o un volante está, en general, sujeta a incertidumbre.\n",
    "\n",
    "Considérese la línea de referencia que conecta el vástago de la válvula de un neumático con el punto central y sea 𝑋 el ángulo medido en el sentido de las manecillas del reloj con respecto a la ubicación de una imperfección.\n",
    "\n",
    "**Definicion del problema**:\n",
    "* $X$: Angulo en grados en el que se da la imperfección respecto a la valvula\n",
    "\n",
    "X sigue una probabilidad uniforme entre 0 y 360:\n",
    "* $X \\sim U(a = 0, b = 360)$"
   ]
  },
  {
   "cell_type": "code",
   "execution_count": 12,
   "metadata": {},
   "outputs": [],
   "source": [
    "a = 0\n",
    "b = 360\n",
    "X = stats.uniform(loc=a, scale=b)"
   ]
  },
  {
   "attachments": {},
   "cell_type": "markdown",
   "metadata": {},
   "source": [
    "* ¿Cuál es la probabilidad de que la imperfección se encuentre entre 90° y 180° de la línea de referencia?\n",
    "\n",
    "$P(90 \\leq X \\leq 180) = ?$"
   ]
  },
  {
   "cell_type": "code",
   "execution_count": 13,
   "metadata": {},
   "outputs": [
    {
     "name": "stdout",
     "output_type": "stream",
     "text": [
      "P(90 < X < 180) = 0.25\n"
     ]
    }
   ],
   "source": [
    "F_90 = X.cdf(90) \n",
    "F_180 = X.cdf(180)\n",
    "\n",
    "P_90_180 = F_180 - F_90\n",
    "\n",
    "print(\"P(90 < X < 180) = \" + str(P_90_180))"
   ]
  },
  {
   "attachments": {},
   "cell_type": "markdown",
   "metadata": {},
   "source": [
    "¿Cuál es la probabilidad de que la imperfección a 90° de la línea de referencia?\n",
    "\n",
    "$P(0 \\leq X \\leq 90 | 270 \\leq X \\leq 360) = ?$"
   ]
  },
  {
   "cell_type": "code",
   "execution_count": 15,
   "metadata": {},
   "outputs": [
    {
     "name": "stdout",
     "output_type": "stream",
     "text": [
      "P(0 < X < 90 | 270 < X < 360) = 0.5\n"
     ]
    }
   ],
   "source": [
    "P_0_90 = X.cdf(90) - X.cdf(0)\n",
    "P_270_360 = X.cdf(360) - X.cdf(270)\n",
    "P_ref_90 = P_270_360 + P_0_90\n",
    "\n",
    "print(\"P(0 < X < 90 | 270 < X < 360) = \" + str(P_ref_90))"
   ]
  },
  {
   "attachments": {},
   "cell_type": "markdown",
   "metadata": {},
   "source": [
    "## Referencias\n",
    "\n",
    "1. https://realpython.com/python-histograms/\n",
    "2. https://courses.lumenlearning.com/introstats1/chapter/the-uniform-distribution/\n",
    "3. https://www.educative.io/answers/how-to-model-the-uniform-distribution-in-python\n",
    "4. https://docs.scipy.org/doc/scipy/reference/generated/scipy.stats.uniform.html\n",
    "5. https://www.kaggle.com/code/hamelg/python-for-data-22-probability-distributions\n",
    "6. https://towardsdatascience.com/understanding-probability-distributions-using-python-9eca9c1d9d38\n",
    "7. https://www.datacamp.com/tutorial/probability-distributions-python\n",
    "8. https://notebook.community/iRipVanWinkle/ml/Data%20Science%20UA%20-%20September%202017/Lecture%2003%20-%20Basic%20Statistics/Overview_of_distributions\n",
    "9. https://seaborn.pydata.org/tutorial/distributions.html\n",
    "10. https://neuraldatascience.io/4-viz/seaborn.html\n",
    "11. https://cu-psych-computing.github.io/cu-psych-comp-tutorial/tutorials/python/4-plotting/\n",
    "12. https://deepnote.com/@a_mas/Curso-de-Visualizacion-de-Datos-con-Matplotlib-y-Seaborn-a5cbcd22-59a5-4f17-af14-92866ad80a76"
   ]
  },
  {
   "attachments": {},
   "cell_type": "markdown",
   "metadata": {},
   "source": [
    "* https://www.tutorialspoint.com/how-to-fill-color-below-a-curve-in-matplotlib\n",
    "* https://stackoverflow.com/questions/10046262/how-to-shade-region-under-the-curve-in-matplotlib\n",
    "* https://stackoverflow.com/questions/46685453/how-to-fill-with-a-different-color-an-area-in-seaborn-distplot\n",
    "* "
   ]
  },
  {
   "cell_type": "code",
   "execution_count": 1,
   "metadata": {},
   "outputs": [
    {
     "name": "stderr",
     "output_type": "stream",
     "text": [
      "C:\\Users\\Usuario\\AppData\\Local\\Temp\\ipykernel_20204\\4077666445.py:14: UserWarning: \n",
      "\n",
      "`distplot` is a deprecated function and will be removed in seaborn v0.14.0.\n",
      "\n",
      "Please adapt your code to use either `displot` (a figure-level function with\n",
      "similar flexibility) or `histplot` (an axes-level function for histograms).\n",
      "\n",
      "For a guide to updating your code to use the new functions, please see\n",
      "https://gist.github.com/mwaskom/de44147ed2974457ad6372750bbe5751\n",
      "\n",
      "  ax = sns.distplot(stat, hist=True,color='#388E3C')\n"
     ]
    },
    {
     "data": {
      "image/png": "[encoded data removed]",
      "text/plain": [
       "<Figure size 640x480 with 1 Axes>"
      ]
     },
     "metadata": {},
     "output_type": "display_data"
    }
   ],
   "source": [
    "import numpy as np\n",
    "import matplotlib.pyplot as plt\n",
    "import seaborn as sns\n",
    "\n",
    "stat=np.random.randn(100)\n",
    "x0 = -1\n",
    "x1 = 1\n",
    "\n",
    "#plotting the two lines\n",
    "p1 = plt.axvline(x=x0,color='#EF9A9A')\n",
    "p2 = plt.axvline(x=x1,color='#EF9A9A')\n",
    "\n",
    "#plotting the PDF\n",
    "ax = sns.distplot(stat, hist=True,color='#388E3C')\n",
    "\n",
    "xlim = ax.get_xlim()\n",
    "ax.axvspan(xlim[0], x0, color='#EF9A9A', alpha=0.5)\n",
    "ax.axvspan(x1, xlim[1], color='#EF9A9A', alpha=0.5)\n",
    "#reset xlim\n",
    "ax.set_xlim(xlim)\n",
    "plt.show()"
   ]
  },
  {
   "attachments": {},
   "cell_type": "markdown",
   "metadata": {},
   "source": [
    "* https://proclusacademy.com/blog/area-under-density-curve-percentile/\n",
    "* https://stackoverflow.com/questions/51442329/use-fill-between-in-python-to-shade-a-sub-area-of-a-density-curve\n",
    "* https://www.geeksforgeeks.org/matplotlib-pyplot-fill_between-in-python/\n",
    "* https://livebook.manning.com/book/data-science-bookcamp/chapter-2/\n",
    "* https://stackoverflow.com/questions/46711019/color-the-shaded-area-under-the-curve-distribution-plot-different-colors"
   ]
  }
 ],
 "metadata": {
  "kernelspec": {
   "display_name": "base",
   "language": "python",
   "name": "python3"
  },
  "language_info": {
   "codemirror_mode": {
    "name": "ipython",
    "version": 3
   },
   "file_extension": ".py",
   "mimetype": "text/x-python",
   "name": "python",
   "nbconvert_exporter": "python",
   "pygments_lexer": "ipython3",
   "version": "3.9.13"
  },
  "orig_nbformat": 4
 },
 "nbformat": 4,
 "nbformat_minor": 2
}
